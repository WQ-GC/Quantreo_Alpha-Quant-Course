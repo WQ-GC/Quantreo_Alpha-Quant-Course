{
 "cells": [
  {
   "cell_type": "markdown",
   "id": "30957071",
   "metadata": {},
   "source": [
    "# MQL5 Basics"
   ]
  },
  {
   "cell_type": "code",
   "execution_count": 65,
   "id": "3a6b9a26",
   "metadata": {},
   "outputs": [],
   "source": [
    "import MetaTrader5 as mt5"
   ]
  },
  {
   "cell_type": "markdown",
   "id": "3d6c8bfa",
   "metadata": {},
   "source": [
    "### Initialize the bound between MetaTrader5 and Python\n",
    "\n",
    "**Don't forget to set in the MetaTrader5 platform parameters the algo trading authorization**"
   ]
  },
  {
   "cell_type": "code",
   "execution_count": 66,
   "id": "78f74793",
   "metadata": {},
   "outputs": [
    {
     "name": "stdout",
     "output_type": "stream",
     "text": [
      "Version: 1.0.0\n",
      "Connected to ICMarkets-Demo success\n",
      "(1, 'Success')\n"
     ]
    }
   ],
   "source": [
    "import MetaTrader5 as mt5\n",
    "import pandas as pd\n",
    "import MT5_Account_Info as mt5_Account\n",
    "\n",
    "mt5_Account.MT5_Connect()   #default to DEMO\n",
    "# mt5_Account.MT5_Connect(loginFilename=\"C:\\WQ_ICM_LIVE_11199032.csv\", accType=\"LIVE\")   #default to DEMO\n",
    "\n",
    "err = mt5.last_error()\n",
    "print(err)\n"
   ]
  },
  {
   "cell_type": "markdown",
   "id": "370e4afe",
   "metadata": {},
   "source": [
    "### Check the last error nature to understand how to correct it\n",
    "\n",
    "Link to the list of error codes: https://www.mql5.com/fr/docs/integration/python_metatrader5/mt5lasterror_py"
   ]
  },
  {
   "cell_type": "code",
   "execution_count": 67,
   "id": "4c2936b4",
   "metadata": {},
   "outputs": [
    {
     "data": {
      "text/plain": [
       "(1, 'Success')"
      ]
     },
     "execution_count": 67,
     "metadata": {},
     "output_type": "execute_result"
    }
   ],
   "source": [
    "# Check last error\n",
    "mt5.last_error()"
   ]
  },
  {
   "cell_type": "code",
   "execution_count": 68,
   "id": "445427b9",
   "metadata": {},
   "outputs": [
    {
     "data": {
      "text/plain": [
       "True"
      ]
     },
     "execution_count": 68,
     "metadata": {},
     "output_type": "execute_result"
    }
   ],
   "source": [
    "# Clsoe the bound between MT5 and Python\n",
    "mt5.shutdown()"
   ]
  },
  {
   "cell_type": "code",
   "execution_count": 69,
   "id": "62dd3c4b",
   "metadata": {},
   "outputs": [
    {
     "data": {
      "text/plain": [
       "(1, 'Success')"
      ]
     },
     "execution_count": 69,
     "metadata": {},
     "output_type": "execute_result"
    }
   ],
   "source": [
    "# Check last error\n",
    "mt5.last_error()"
   ]
  },
  {
   "cell_type": "code",
   "execution_count": 70,
   "id": "0d5f00f2",
   "metadata": {},
   "outputs": [],
   "source": [
    "# Call a function when the bound is down (No visual error but no exit)\n",
    "mt5.account_info()"
   ]
  },
  {
   "cell_type": "code",
   "execution_count": 71,
   "id": "aefff9db",
   "metadata": {},
   "outputs": [
    {
     "data": {
      "text/plain": [
       "(-10004, 'No IPC connection')"
      ]
     },
     "execution_count": 71,
     "metadata": {},
     "output_type": "execute_result"
    }
   ],
   "source": [
    "# Check last error\n",
    "mt5.last_error()"
   ]
  },
  {
   "cell_type": "code",
   "execution_count": 72,
   "id": "5faa7c42",
   "metadata": {},
   "outputs": [
    {
     "data": {
      "text/plain": [
       "True"
      ]
     },
     "execution_count": 72,
     "metadata": {},
     "output_type": "execute_result"
    }
   ],
   "source": [
    "# Initialize the bound\n",
    "mt5.initialize()"
   ]
  },
  {
   "cell_type": "markdown",
   "id": "2afdead9",
   "metadata": {},
   "source": [
    "### Extract account information"
   ]
  },
  {
   "cell_type": "code",
   "execution_count": 73,
   "id": "497b7c38",
   "metadata": {},
   "outputs": [
    {
     "name": "stdout",
     "output_type": "stream",
     "text": [
      "login 51826371\n",
      "trade_mode 0\n",
      "leverage 30\n",
      "limit_orders 200\n",
      "margin_so_mode 0\n",
      "trade_allowed True\n",
      "trade_expert True\n",
      "margin_mode 2\n",
      "currency_digits 2\n",
      "fifo_close False\n",
      "balance 9965.75\n",
      "credit 0.0\n",
      "profit 0.0\n",
      "equity 9965.75\n",
      "margin 0.0\n",
      "margin_free 9965.75\n",
      "margin_level 0.0\n",
      "margin_so_call 100.0\n",
      "margin_so_so 50.0\n",
      "margin_initial 0.0\n",
      "margin_maintenance 0.0\n",
      "assets 0.0\n",
      "liabilities 0.0\n",
      "commission_blocked 0.0\n",
      "name Quah Wilson\n",
      "server ICMarkets-Demo\n",
      "currency USD\n",
      "company International Capital Markets Pty Ltd.\n",
      "AccountInfo(login=51826371, trade_mode=0, leverage=30, limit_orders=200, margin_so_mode=0, trade_allowed=True, trade_expert=True, margin_mode=2, currency_digits=2, fifo_close=False, balance=9965.75, credit=0.0, profit=0.0, equity=9965.75, margin=0.0, margin_free=9965.75, margin_level=0.0, margin_so_call=100.0, margin_so_so=50.0, margin_initial=0.0, margin_maintenance=0.0, assets=0.0, liabilities=0.0, commission_blocked=0.0, name='Quah Wilson', server='ICMarkets-Demo', currency='USD', company='International Capital Markets Pty Ltd.')\n",
      "(1, 'Success')\n"
     ]
    }
   ],
   "source": [
    "# Extract account information\n",
    "accInfo = mt5.account_info()\n",
    "\n",
    "for key, val in accInfo._asdict().items():\n",
    "    print(key, val)\n",
    "\n",
    "print(accInfo)\n",
    "\n",
    "err = mt5.last_error()\n",
    "print(err)\n"
   ]
  },
  {
   "cell_type": "code",
   "execution_count": 74,
   "id": "caba923a",
   "metadata": {},
   "outputs": [
    {
     "name": "stdout",
     "output_type": "stream",
     "text": [
      "accInfo.balance =  9965.75\n"
     ]
    }
   ],
   "source": [
    "# Extract balance account\n",
    "accInfo = mt5.account_info()\n",
    "accBal = accInfo.balance\n",
    "print(\"accInfo.balance = \", accBal)"
   ]
  },
  {
   "cell_type": "code",
   "execution_count": 75,
   "id": "7a6ba2ea",
   "metadata": {},
   "outputs": [
    {
     "name": "stdout",
     "output_type": "stream",
     "text": [
      "Login:  51826371\n"
     ]
    }
   ],
   "source": [
    "# Extract log account\n",
    "accLogin = accInfo.login\n",
    "print(\"Login: \", accLogin)"
   ]
  },
  {
   "cell_type": "code",
   "execution_count": 76,
   "id": "060793f8",
   "metadata": {},
   "outputs": [
    {
     "name": "stdout",
     "output_type": "stream",
     "text": [
      "leverage:  30\n"
     ]
    }
   ],
   "source": [
    "# Extract leverage account\n",
    "accLeverage = accInfo.leverage\n",
    "print(\"leverage: \", accLeverage)"
   ]
  },
  {
   "cell_type": "code",
   "execution_count": 77,
   "id": "7e9cc92e",
   "metadata": {},
   "outputs": [
    {
     "name": "stdout",
     "output_type": "stream",
     "text": [
      "Server:  ICMarkets-Demo\n"
     ]
    }
   ],
   "source": [
    "# Extract server account\n",
    "accServer = accInfo.server\n",
    "print(\"Server: \", accServer)"
   ]
  },
  {
   "cell_type": "markdown",
   "id": "74f6c123",
   "metadata": {},
   "source": [
    "### Add a symbol into the market watch"
   ]
  },
  {
   "cell_type": "code",
   "execution_count": 78,
   "id": "511601b0",
   "metadata": {},
   "outputs": [
    {
     "data": {
      "text/plain": [
       "(1, 'Success')"
      ]
     },
     "execution_count": 78,
     "metadata": {},
     "output_type": "execute_result"
    }
   ],
   "source": [
    "# Add a symbol into the market watch\n",
    "mt5.symbol_select(\"XAUUSD.a\")\n",
    "mt5.last_error()\n"
   ]
  },
  {
   "cell_type": "markdown",
   "id": "a3daeb5b",
   "metadata": {},
   "source": [
    "### Extract symbol information"
   ]
  },
  {
   "cell_type": "code",
   "execution_count": 79,
   "id": "835dd8e5",
   "metadata": {},
   "outputs": [
    {
     "name": "stdout",
     "output_type": "stream",
     "text": [
      "custom: False\n",
      "chart_mode: 0\n",
      "select: True\n",
      "visible: True\n",
      "session_deals: 0\n",
      "session_buy_orders: 0\n",
      "session_sell_orders: 0\n",
      "volume: 0\n",
      "volumehigh: 0\n",
      "volumelow: 0\n",
      "time: 1724437637\n",
      "digits: 2\n",
      "spread: 6\n",
      "spread_float: True\n",
      "ticks_bookdepth: 10\n",
      "trade_calc_mode: 2\n",
      "trade_mode: 4\n",
      "start_time: 0\n",
      "expiration_time: 0\n",
      "trade_stops_level: 0\n",
      "trade_freeze_level: 0\n",
      "trade_exemode: 2\n",
      "swap_mode: 1\n",
      "swap_rollover3days: 3\n",
      "margin_hedged_use_leg: False\n",
      "expiration_mode: 15\n",
      "filling_mode: 2\n",
      "order_mode: 127\n",
      "order_gtc_mode: 0\n",
      "option_mode: 0\n",
      "option_right: 0\n",
      "bid: 2517.48\n",
      "bidhigh: 2517.95\n",
      "bidlow: 2484.46\n",
      "ask: 2517.54\n",
      "askhigh: 2518.0\n",
      "asklow: 2484.53\n",
      "last: 0.0\n",
      "lasthigh: 0.0\n",
      "lastlow: 0.0\n",
      "volume_real: 0.0\n",
      "volumehigh_real: 0.0\n",
      "volumelow_real: 0.0\n",
      "option_strike: 0.0\n",
      "point: 0.01\n",
      "trade_tick_value: 1.0\n",
      "trade_tick_value_profit: 1.0\n",
      "trade_tick_value_loss: 1.0\n",
      "trade_tick_size: 0.01\n",
      "trade_contract_size: 100.0\n",
      "trade_accrued_interest: 0.0\n",
      "trade_face_value: 0.0\n",
      "trade_liquidity_rate: 0.0\n",
      "volume_min: 0.01\n",
      "volume_max: 100.0\n",
      "volume_step: 0.01\n",
      "volume_limit: 0.0\n",
      "swap_long: -32.84\n",
      "swap_short: 20.78\n",
      "margin_initial: 100.0\n",
      "margin_maintenance: 0.0\n",
      "session_volume: 0.0\n",
      "session_turnover: 0.0\n",
      "session_interest: 0.0\n",
      "session_buy_orders_volume: 0.0\n",
      "session_sell_orders_volume: 0.0\n",
      "session_open: 2484.76\n",
      "session_close: 2484.73\n",
      "session_aw: 0.0\n",
      "session_price_settlement: 0.0\n",
      "session_price_limit_min: 0.0\n",
      "session_price_limit_max: 0.0\n",
      "margin_hedged: 100.0\n",
      "price_change: 1.3181\n",
      "price_volatility: 0.0\n",
      "price_theoretical: 0.0\n",
      "price_greeks_delta: 0.0\n",
      "price_greeks_theta: 0.0\n",
      "price_greeks_gamma: 0.0\n",
      "price_greeks_vega: 0.0\n",
      "price_greeks_rho: 0.0\n",
      "price_greeks_omega: 0.0\n",
      "price_sensitivity: 0.0\n",
      "basis: \n",
      "category: \n",
      "currency_base: XAU\n",
      "currency_profit: USD\n",
      "currency_margin: XAU\n",
      "bank: \n",
      "description: Gold vs US Dollar\n",
      "exchange: \n",
      "formula: \n",
      "isin: \n",
      "name: XAUUSD.a\n",
      "page: \n",
      "path: Commodities.a\\Metals.a\\XAUUSD.a\n"
     ]
    }
   ],
   "source": [
    "# Extract all information\n",
    "getInfo = mt5.symbol_info(\"XAUUSD.a\")\n",
    "\n",
    "#Print getInfo in a nice format\n",
    "for key,val in getInfo._asdict().items():\n",
    "    print(f\"{key}: {val}\")\n"
   ]
  },
  {
   "cell_type": "code",
   "execution_count": 80,
   "id": "09764013",
   "metadata": {},
   "outputs": [
    {
     "name": "stdout",
     "output_type": "stream",
     "text": [
      "custom: False\n",
      "chart_mode: 0\n",
      "select: True\n",
      "visible: True\n",
      "session_deals: 0\n",
      "session_buy_orders: 0\n",
      "session_sell_orders: 0\n",
      "volume: 0\n",
      "volumehigh: 0\n",
      "volumelow: 0\n",
      "time: 1724437637\n",
      "digits: 2\n",
      "spread: 6\n",
      "spread_float: True\n",
      "ticks_bookdepth: 10\n",
      "trade_calc_mode: 2\n",
      "trade_mode: 4\n",
      "start_time: 0\n",
      "expiration_time: 0\n",
      "trade_stops_level: 0\n",
      "trade_freeze_level: 0\n",
      "trade_exemode: 2\n",
      "swap_mode: 1\n",
      "swap_rollover3days: 3\n",
      "margin_hedged_use_leg: False\n",
      "expiration_mode: 15\n",
      "filling_mode: 2\n",
      "order_mode: 127\n",
      "order_gtc_mode: 0\n",
      "option_mode: 0\n",
      "option_right: 0\n",
      "bid: 2517.48\n",
      "bidhigh: 2517.95\n",
      "bidlow: 2484.46\n",
      "ask: 2517.54\n",
      "askhigh: 2518.0\n",
      "asklow: 2484.53\n",
      "last: 0.0\n",
      "lasthigh: 0.0\n",
      "lastlow: 0.0\n",
      "volume_real: 0.0\n",
      "volumehigh_real: 0.0\n",
      "volumelow_real: 0.0\n",
      "option_strike: 0.0\n",
      "point: 0.01\n",
      "trade_tick_value: 1.0\n",
      "trade_tick_value_profit: 1.0\n",
      "trade_tick_value_loss: 1.0\n",
      "trade_tick_size: 0.01\n",
      "trade_contract_size: 100.0\n",
      "trade_accrued_interest: 0.0\n",
      "trade_face_value: 0.0\n",
      "trade_liquidity_rate: 0.0\n",
      "volume_min: 0.01\n",
      "volume_max: 100.0\n",
      "volume_step: 0.01\n",
      "volume_limit: 0.0\n",
      "swap_long: -32.84\n",
      "swap_short: 20.78\n",
      "margin_initial: 100.0\n",
      "margin_maintenance: 0.0\n",
      "session_volume: 0.0\n",
      "session_turnover: 0.0\n",
      "session_interest: 0.0\n",
      "session_buy_orders_volume: 0.0\n",
      "session_sell_orders_volume: 0.0\n",
      "session_open: 2484.76\n",
      "session_close: 2484.73\n",
      "session_aw: 0.0\n",
      "session_price_settlement: 0.0\n",
      "session_price_limit_min: 0.0\n",
      "session_price_limit_max: 0.0\n",
      "margin_hedged: 100.0\n",
      "price_change: 1.3181\n",
      "price_volatility: 0.0\n",
      "price_theoretical: 0.0\n",
      "price_greeks_delta: 0.0\n",
      "price_greeks_theta: 0.0\n",
      "price_greeks_gamma: 0.0\n",
      "price_greeks_vega: 0.0\n",
      "price_greeks_rho: 0.0\n",
      "price_greeks_omega: 0.0\n",
      "price_sensitivity: 0.0\n",
      "basis: \n",
      "category: \n",
      "currency_base: XAU\n",
      "currency_profit: USD\n",
      "currency_margin: XAU\n",
      "bank: \n",
      "description: Gold vs US Dollar\n",
      "exchange: \n",
      "formula: \n",
      "isin: \n",
      "name: XAUUSD.a\n",
      "page: \n",
      "path: Commodities.a\\Metals.a\\XAUUSD.a\n",
      "bid: 2517.48\n",
      "ask: 2517.54\n"
     ]
    }
   ],
   "source": [
    "# Extract bid price\n",
    "symbol = mt5.symbol_info(\"XAUUSD.a\")\n",
    "\n",
    "for key,val in symbol._asdict().items():\n",
    "    print(f\"{key}: {val}\")\n",
    "\n",
    "print(\"bid:\",symbol.bid)\n",
    "print(\"ask:\",symbol.ask)\n"
   ]
  },
  {
   "cell_type": "code",
   "execution_count": 81,
   "id": "6702f13b",
   "metadata": {},
   "outputs": [
    {
     "data": {
      "text/plain": [
       "2517.54"
      ]
     },
     "execution_count": 81,
     "metadata": {},
     "output_type": "execute_result"
    }
   ],
   "source": [
    "# Extract ask price\n",
    "symbol.ask"
   ]
  },
  {
   "cell_type": "code",
   "execution_count": 82,
   "id": "c1204dc4",
   "metadata": {},
   "outputs": [
    {
     "data": {
      "text/plain": [
       "'Gold vs US Dollar'"
      ]
     },
     "execution_count": 82,
     "metadata": {},
     "output_type": "execute_result"
    }
   ],
   "source": [
    "# Extract description symbol\n",
    "symbol.description"
   ]
  },
  {
   "cell_type": "code",
   "execution_count": 83,
   "id": "31fb0e98",
   "metadata": {},
   "outputs": [
    {
     "data": {
      "text/plain": [
       "0.01"
      ]
     },
     "execution_count": 83,
     "metadata": {},
     "output_type": "execute_result"
    }
   ],
   "source": [
    "# Extract min volume\n",
    "symbol.volume_min"
   ]
  },
  {
   "cell_type": "code",
   "execution_count": 84,
   "id": "2121a7c0",
   "metadata": {},
   "outputs": [
    {
     "data": {
      "text/plain": [
       "100.0"
      ]
     },
     "execution_count": 84,
     "metadata": {},
     "output_type": "execute_result"
    }
   ],
   "source": [
    "symbol.trade_contract_size"
   ]
  },
  {
   "cell_type": "code",
   "execution_count": 85,
   "id": "0020caa1",
   "metadata": {},
   "outputs": [
    {
     "name": "stdout",
     "output_type": "stream",
     "text": [
      "Add symbol Success\n",
      "XLF.NYSE.a\n",
      "Financial Select Sector SPDR ETF CFD\n",
      "trade constract size: 1.0\n",
      "min volume: 0.1\n",
      "bid 44.47\n",
      "ask 44.5\n",
      "swap long: -2.59\n",
      "swap short:  -2.41\n"
     ]
    }
   ],
   "source": [
    "#Add XLF.a symbol to market watch\n",
    "mt5.symbol_select(\"XLF.NYSE.a\")\n",
    "err = mt5.last_error()\n",
    "# print(err)\n",
    "\n",
    "if err[1] != \"Success\":\n",
    "    print(\"ERR: failed to add symbol\")\n",
    "else:\n",
    "    print(\"Add symbol Success\")\n",
    "    \n",
    "    #get symbol info\n",
    "    symbol = mt5.symbol_info(\"XLF.NYSE.a\")\n",
    "    # for key,val in symbol._asdict().items():\n",
    "    #     print(f\"{key}: {val}\")\n",
    "    print(symbol.name)    \n",
    "    print(symbol.description)\n",
    "    print(\"trade constract size:\", symbol.trade_contract_size)    \n",
    "    print(\"min volume:\",symbol.volume_min)    \n",
    "    print(\"bid\",symbol.bid)\n",
    "    print(\"ask\",symbol.ask)\n",
    "    print(\"swap long:\", symbol.swap_long)\n",
    "    print(\"swap short: \", symbol.swap_short)\n",
    "\n",
    "\n"
   ]
  }
 ],
 "metadata": {
  "kernelspec": {
   "display_name": "Python 3 (ipykernel)",
   "language": "python",
   "name": "python3"
  },
  "language_info": {
   "codemirror_mode": {
    "name": "ipython",
    "version": 3
   },
   "file_extension": ".py",
   "mimetype": "text/x-python",
   "name": "python",
   "nbconvert_exporter": "python",
   "pygments_lexer": "ipython3",
   "version": "3.10.14"
  }
 },
 "nbformat": 4,
 "nbformat_minor": 5
}
